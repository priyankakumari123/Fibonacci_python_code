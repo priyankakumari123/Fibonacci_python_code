{
 "cells": [
  {
   "cell_type": "code",
   "execution_count": 1,
   "metadata": {},
   "outputs": [],
   "source": [
    "### Using Recursive Method\n",
    "\n",
    "def Fibonacci_Number(n): \n",
    "    if n<0: \n",
    "        print(\"Please enter correct input\") \n",
    "    elif n==1: \n",
    "        return 0 # First Fibonacci number is 0 \n",
    "    elif n==2: \n",
    "        return 1  # Second Fibonacci number is 1 \n",
    "    else: \n",
    "        return Fibonacci_Number(n-1)+Fibonacci_Number(n-2) "
   ]
  },
  {
   "cell_type": "code",
   "execution_count": 4,
   "metadata": {},
   "outputs": [
    {
     "data": {
      "text/plain": [
       "34"
      ]
     },
     "execution_count": 4,
     "metadata": {},
     "output_type": "execute_result"
    }
   ],
   "source": [
    "\n",
    "Fibonacci_Number(10)\n"
   ]
  },
  {
   "cell_type": "code",
   "execution_count": 19,
   "metadata": {},
   "outputs": [],
   "source": [
    "## Storing the Fibannaci in Array that hold the number made so far.\n",
    "\n",
    "def fib_2(n, fibbo):\n",
    "    if fibbo[n] is not None:\n",
    "        return fibbo[n]\n",
    "    if n == 1 or n == 2:\n",
    "        result = 1\n",
    "    else:\n",
    "        result = fib_2(n-1, fibbo) + fib_2(n-2, fibbo)\n",
    "    fibbo[n] = result\n",
    "    return result\n",
    "\n",
    "def fib_memo(n):\n",
    "    fibbo = [None] * (n + 1)\n",
    "    return fib_2(n, fibbo)\n"
   ]
  },
  {
   "cell_type": "code",
   "execution_count": 20,
   "metadata": {},
   "outputs": [
    {
     "data": {
      "text/plain": [
       "55"
      ]
     },
     "execution_count": 20,
     "metadata": {},
     "output_type": "execute_result"
    }
   ],
   "source": [
    "fib_memo(10)"
   ]
  },
  {
   "cell_type": "code",
   "execution_count": 17,
   "metadata": {},
   "outputs": [],
   "source": [
    "## Fibonnaci without Recurssion using Array\n",
    "def fibonacci(n):\n",
    "##Return the nth Fibonacci number.\n",
    "    if n == 0:\n",
    "        return 0\n",
    "\n",
    "# r[i] will contain the ith Fibonacci number\n",
    "    r = [-1]*(n + 1)\n",
    "    r[0] = 0\n",
    "    r[1] = 1\n",
    "\n",
    "    for i in range(2, n + 1):\n",
    "        r[i] = r[i - 1] + r[i - 2]\n",
    "\n",
    "    return r[n]\n",
    "\n",
    "\n"
   ]
  },
  {
   "cell_type": "code",
   "execution_count": null,
   "metadata": {},
   "outputs": [],
   "source": [
    "Fibonacci_Number(10)"
   ]
  },
  {
   "cell_type": "code",
   "execution_count": null,
   "metadata": {},
   "outputs": [],
   "source": []
  }
 ],
 "metadata": {
  "kernelspec": {
   "display_name": "Python 3",
   "language": "python",
   "name": "python3"
  },
  "language_info": {
   "codemirror_mode": {
    "name": "ipython",
    "version": 3
   },
   "file_extension": ".py",
   "mimetype": "text/x-python",
   "name": "python",
   "nbconvert_exporter": "python",
   "pygments_lexer": "ipython3",
   "version": "3.7.3"
  }
 },
 "nbformat": 4,
 "nbformat_minor": 2
}
